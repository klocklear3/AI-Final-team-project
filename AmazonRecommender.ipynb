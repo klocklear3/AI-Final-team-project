{
  "nbformat": 4,
  "nbformat_minor": 0,
  "metadata": {
    "colab": {
      "provenance": []
    },
    "kernelspec": {
      "name": "python3",
      "display_name": "Python 3"
    },
    "language_info": {
      "name": "python"
    },
    "accelerator": "GPU",
    "gpuClass": "standard"
  },
  "cells": [
    {
      "cell_type": "markdown",
      "source": [],
      "metadata": {
        "id": "va4vFHdGojcu"
      }
    },
    {
      "cell_type": "markdown",
      "source": [
        "# **Import Libraries**\n",
        "\n"
      ],
      "metadata": {
        "id": "GtFuwA1y9R6l"
      }
    },
    {
      "cell_type": "code",
      "execution_count": null,
      "metadata": {
        "id": "95yPviXLj3VW"
      },
      "outputs": [],
      "source": [
        "import numpy as np \n",
        "import pandas as pd "
      ]
    },
    {
      "cell_type": "markdown",
      "source": [
        "# **Load Data:**\n",
        "\n",
        "Amazon Electronics Customer Reviews\n",
        "\n",
        "7.8 million rows, 4 columns"
      ],
      "metadata": {
        "id": "2I3zLTfb92OQ"
      }
    },
    {
      "cell_type": "code",
      "source": [
        "electronics_data=pd.read_csv(\"ratings_Electronics (1).csv\",names=['userId', 'productId','Rating','timestamp'])\n",
        "electronics_data.shape"
      ],
      "metadata": {
        "colab": {
          "base_uri": "https://localhost:8080/"
        },
        "id": "2paP_MB6kr83",
        "outputId": "3d07897b-96fb-4371-f7b8-6baaf9b6b35f"
      },
      "execution_count": null,
      "outputs": [
        {
          "output_type": "execute_result",
          "data": {
            "text/plain": [
              "(7824482, 4)"
            ]
          },
          "metadata": {},
          "execution_count": 38
        }
      ]
    },
    {
      "cell_type": "code",
      "source": [
        "electronics_data.head()"
      ],
      "metadata": {
        "colab": {
          "base_uri": "https://localhost:8080/",
          "height": 206
        },
        "id": "Y_i4Vp4TkvIN",
        "outputId": "355c6f45-8526-4430-b086-fb6ba30b5ceb"
      },
      "execution_count": null,
      "outputs": [
        {
          "output_type": "execute_result",
          "data": {
            "text/plain": [
              "           userId   productId  Rating   timestamp\n",
              "0   AKM1MP6P0OYPR  0132793040     5.0  1365811200\n",
              "1  A2CX7LUOHB2NDG  0321732944     5.0  1341100800\n",
              "2  A2NWSAGRHCP8N5  0439886341     1.0  1367193600\n",
              "3  A2WNBOD3WNDNKT  0439886341     3.0  1374451200\n",
              "4  A1GI0U4ZRJA8WN  0439886341     1.0  1334707200"
            ],
            "text/html": [
              "\n",
              "  <div id=\"df-88b0720c-3c24-4fa4-91e9-de3d8e932f85\">\n",
              "    <div class=\"colab-df-container\">\n",
              "      <div>\n",
              "<style scoped>\n",
              "    .dataframe tbody tr th:only-of-type {\n",
              "        vertical-align: middle;\n",
              "    }\n",
              "\n",
              "    .dataframe tbody tr th {\n",
              "        vertical-align: top;\n",
              "    }\n",
              "\n",
              "    .dataframe thead th {\n",
              "        text-align: right;\n",
              "    }\n",
              "</style>\n",
              "<table border=\"1\" class=\"dataframe\">\n",
              "  <thead>\n",
              "    <tr style=\"text-align: right;\">\n",
              "      <th></th>\n",
              "      <th>userId</th>\n",
              "      <th>productId</th>\n",
              "      <th>Rating</th>\n",
              "      <th>timestamp</th>\n",
              "    </tr>\n",
              "  </thead>\n",
              "  <tbody>\n",
              "    <tr>\n",
              "      <th>0</th>\n",
              "      <td>AKM1MP6P0OYPR</td>\n",
              "      <td>0132793040</td>\n",
              "      <td>5.0</td>\n",
              "      <td>1365811200</td>\n",
              "    </tr>\n",
              "    <tr>\n",
              "      <th>1</th>\n",
              "      <td>A2CX7LUOHB2NDG</td>\n",
              "      <td>0321732944</td>\n",
              "      <td>5.0</td>\n",
              "      <td>1341100800</td>\n",
              "    </tr>\n",
              "    <tr>\n",
              "      <th>2</th>\n",
              "      <td>A2NWSAGRHCP8N5</td>\n",
              "      <td>0439886341</td>\n",
              "      <td>1.0</td>\n",
              "      <td>1367193600</td>\n",
              "    </tr>\n",
              "    <tr>\n",
              "      <th>3</th>\n",
              "      <td>A2WNBOD3WNDNKT</td>\n",
              "      <td>0439886341</td>\n",
              "      <td>3.0</td>\n",
              "      <td>1374451200</td>\n",
              "    </tr>\n",
              "    <tr>\n",
              "      <th>4</th>\n",
              "      <td>A1GI0U4ZRJA8WN</td>\n",
              "      <td>0439886341</td>\n",
              "      <td>1.0</td>\n",
              "      <td>1334707200</td>\n",
              "    </tr>\n",
              "  </tbody>\n",
              "</table>\n",
              "</div>\n",
              "      <button class=\"colab-df-convert\" onclick=\"convertToInteractive('df-88b0720c-3c24-4fa4-91e9-de3d8e932f85')\"\n",
              "              title=\"Convert this dataframe to an interactive table.\"\n",
              "              style=\"display:none;\">\n",
              "        \n",
              "  <svg xmlns=\"http://www.w3.org/2000/svg\" height=\"24px\"viewBox=\"0 0 24 24\"\n",
              "       width=\"24px\">\n",
              "    <path d=\"M0 0h24v24H0V0z\" fill=\"none\"/>\n",
              "    <path d=\"M18.56 5.44l.94 2.06.94-2.06 2.06-.94-2.06-.94-.94-2.06-.94 2.06-2.06.94zm-11 1L8.5 8.5l.94-2.06 2.06-.94-2.06-.94L8.5 2.5l-.94 2.06-2.06.94zm10 10l.94 2.06.94-2.06 2.06-.94-2.06-.94-.94-2.06-.94 2.06-2.06.94z\"/><path d=\"M17.41 7.96l-1.37-1.37c-.4-.4-.92-.59-1.43-.59-.52 0-1.04.2-1.43.59L10.3 9.45l-7.72 7.72c-.78.78-.78 2.05 0 2.83L4 21.41c.39.39.9.59 1.41.59.51 0 1.02-.2 1.41-.59l7.78-7.78 2.81-2.81c.8-.78.8-2.07 0-2.86zM5.41 20L4 18.59l7.72-7.72 1.47 1.35L5.41 20z\"/>\n",
              "  </svg>\n",
              "      </button>\n",
              "      \n",
              "  <style>\n",
              "    .colab-df-container {\n",
              "      display:flex;\n",
              "      flex-wrap:wrap;\n",
              "      gap: 12px;\n",
              "    }\n",
              "\n",
              "    .colab-df-convert {\n",
              "      background-color: #E8F0FE;\n",
              "      border: none;\n",
              "      border-radius: 50%;\n",
              "      cursor: pointer;\n",
              "      display: none;\n",
              "      fill: #1967D2;\n",
              "      height: 32px;\n",
              "      padding: 0 0 0 0;\n",
              "      width: 32px;\n",
              "    }\n",
              "\n",
              "    .colab-df-convert:hover {\n",
              "      background-color: #E2EBFA;\n",
              "      box-shadow: 0px 1px 2px rgba(60, 64, 67, 0.3), 0px 1px 3px 1px rgba(60, 64, 67, 0.15);\n",
              "      fill: #174EA6;\n",
              "    }\n",
              "\n",
              "    [theme=dark] .colab-df-convert {\n",
              "      background-color: #3B4455;\n",
              "      fill: #D2E3FC;\n",
              "    }\n",
              "\n",
              "    [theme=dark] .colab-df-convert:hover {\n",
              "      background-color: #434B5C;\n",
              "      box-shadow: 0px 1px 3px 1px rgba(0, 0, 0, 0.15);\n",
              "      filter: drop-shadow(0px 1px 2px rgba(0, 0, 0, 0.3));\n",
              "      fill: #FFFFFF;\n",
              "    }\n",
              "  </style>\n",
              "\n",
              "      <script>\n",
              "        const buttonEl =\n",
              "          document.querySelector('#df-88b0720c-3c24-4fa4-91e9-de3d8e932f85 button.colab-df-convert');\n",
              "        buttonEl.style.display =\n",
              "          google.colab.kernel.accessAllowed ? 'block' : 'none';\n",
              "\n",
              "        async function convertToInteractive(key) {\n",
              "          const element = document.querySelector('#df-88b0720c-3c24-4fa4-91e9-de3d8e932f85');\n",
              "          const dataTable =\n",
              "            await google.colab.kernel.invokeFunction('convertToInteractive',\n",
              "                                                     [key], {});\n",
              "          if (!dataTable) return;\n",
              "\n",
              "          const docLinkHtml = 'Like what you see? Visit the ' +\n",
              "            '<a target=\"_blank\" href=https://colab.research.google.com/notebooks/data_table.ipynb>data table notebook</a>'\n",
              "            + ' to learn more about interactive tables.';\n",
              "          element.innerHTML = '';\n",
              "          dataTable['output_type'] = 'display_data';\n",
              "          await google.colab.output.renderOutput(dataTable, element);\n",
              "          const docLink = document.createElement('div');\n",
              "          docLink.innerHTML = docLinkHtml;\n",
              "          element.appendChild(docLink);\n",
              "        }\n",
              "      </script>\n",
              "    </div>\n",
              "  </div>\n",
              "  "
            ]
          },
          "metadata": {},
          "execution_count": 39
        }
      ]
    },
    {
      "cell_type": "markdown",
      "source": [
        "# **Clean Data:**\n",
        "\n",
        "- Subset dataframe to first million reviews"
      ],
      "metadata": {
        "id": "E_D-QyUJ-MGO"
      }
    },
    {
      "cell_type": "code",
      "source": [
        "electronics_data=electronics_data.iloc[:1000000,0:]"
      ],
      "metadata": {
        "id": "1WjM40Zckywk"
      },
      "execution_count": null,
      "outputs": []
    },
    {
      "cell_type": "code",
      "source": [
        "print(\"Total data \")\n",
        "print(\"-\"*50)\n",
        "print(\"\\nTotal no of ratings :\",electronics_data.shape[0])\n",
        "print(\"Total No of Users   :\", len(np.unique(electronics_data.userId)))\n",
        "print(\"Total No of products  :\", len(np.unique(electronics_data.productId)))"
      ],
      "metadata": {
        "colab": {
          "base_uri": "https://localhost:8080/"
        },
        "id": "zfq_I1Pzk_lg",
        "outputId": "fd7a8e76-f3d3-41af-b138-67f94721aa2a"
      },
      "execution_count": null,
      "outputs": [
        {
          "output_type": "stream",
          "name": "stdout",
          "text": [
            "Total data \n",
            "--------------------------------------------------\n",
            "\n",
            "Total no of ratings : 1000000\n",
            "Total No of Users   : 754153\n",
            "Total No of products  : 59634\n"
          ]
        }
      ]
    },
    {
      "cell_type": "markdown",
      "source": [
        "# **Drop the timestamp column**"
      ],
      "metadata": {
        "id": "bp7x3Td5Awaw"
      }
    },
    {
      "cell_type": "code",
      "source": [
        "#Dropping the Timestamp column\n",
        "\n",
        "electronics_data.drop(['timestamp'], axis=1,inplace=True)"
      ],
      "metadata": {
        "id": "DT7Gk3yelCd3"
      },
      "execution_count": null,
      "outputs": []
    },
    {
      "cell_type": "markdown",
      "source": [
        "# **Only include products with atleast 50 reviews**"
      ],
      "metadata": {
        "id": "CT3ReL-FA3Oz"
      }
    },
    {
      "cell_type": "code",
      "source": [
        "new_df=electronics_data.groupby(\"productId\").filter(lambda x:x['Rating'].count() >=50)"
      ],
      "metadata": {
        "id": "WIk6xsorobss"
      },
      "execution_count": null,
      "outputs": []
    },
    {
      "cell_type": "markdown",
      "source": [
        " **Use pivot_table() to make it easier to perform matrix operations and calculations, such as computing the correlation matrix, allowing us to find similar products and make recommendations**"
      ],
      "metadata": {
        "id": "6wqUHAEwC2NV"
      }
    },
    {
      "cell_type": "code",
      "source": [
        "new_df1=new_df.head(10000)\n",
        "ratings_matrix = new_df1.pivot_table(values='Rating', index='userId', columns='productId', fill_value=0)\n",
        "ratings_matrix.head()"
      ],
      "metadata": {
        "colab": {
          "base_uri": "https://localhost:8080/",
          "height": 331
        },
        "id": "cTkKsN2sq2Ah",
        "outputId": "6d233847-d95a-41d7-c6a4-964e3f9ad99d"
      },
      "execution_count": null,
      "outputs": [
        {
          "output_type": "execute_result",
          "data": {
            "text/plain": [
              "productId              0972683275  1400501466  1400501520  1400501776  \\\n",
              "userId                                                                  \n",
              "A01852072Z7B68UHLI5UG           0           0           0           0   \n",
              "A0266076X6KPZ6CCHGVS            0           0           0           0   \n",
              "A0293130VTX2ZXA70JQS            5           0           0           0   \n",
              "A030530627MK66BD8V4LN           4           0           0           0   \n",
              "A0571176384K8RBNKGF8O           0           0           0           0   \n",
              "\n",
              "productId              1400532620  1400532655  140053271X  1400532736  \\\n",
              "userId                                                                  \n",
              "A01852072Z7B68UHLI5UG           0           0           0           0   \n",
              "A0266076X6KPZ6CCHGVS            0           0           0           0   \n",
              "A0293130VTX2ZXA70JQS            0           0           0           0   \n",
              "A030530627MK66BD8V4LN           0           0           0           0   \n",
              "A0571176384K8RBNKGF8O           0           0           0           0   \n",
              "\n",
              "productId              1400599997  1400698987  ...  B00000JFMK  B00000JHWX  \\\n",
              "userId                                         ...                           \n",
              "A01852072Z7B68UHLI5UG           0           0  ...           0           0   \n",
              "A0266076X6KPZ6CCHGVS            0           0  ...           0           0   \n",
              "A0293130VTX2ZXA70JQS            0           0  ...           0           0   \n",
              "A030530627MK66BD8V4LN           0           0  ...           0           0   \n",
              "A0571176384K8RBNKGF8O           0           0  ...           0           0   \n",
              "\n",
              "productId              B00000JI4F  B00000JII6  B00000JMUG  B00000JPPI  \\\n",
              "userId                                                                  \n",
              "A01852072Z7B68UHLI5UG           0           0           0           0   \n",
              "A0266076X6KPZ6CCHGVS            0           0           0           0   \n",
              "A0293130VTX2ZXA70JQS            0           0           0           0   \n",
              "A030530627MK66BD8V4LN           0           0           0           0   \n",
              "A0571176384K8RBNKGF8O           0           0           0           0   \n",
              "\n",
              "productId              B00000JSGF  B00000JYLO  B00000JYWQ  B00000K135  \n",
              "userId                                                                 \n",
              "A01852072Z7B68UHLI5UG           0           0           0           0  \n",
              "A0266076X6KPZ6CCHGVS            0           0           0           0  \n",
              "A0293130VTX2ZXA70JQS            0           0           0           0  \n",
              "A030530627MK66BD8V4LN           0           0           0           0  \n",
              "A0571176384K8RBNKGF8O           0           0           0           0  \n",
              "\n",
              "[5 rows x 76 columns]"
            ],
            "text/html": [
              "\n",
              "  <div id=\"df-24ca718e-1eef-4579-92dd-048c49057864\">\n",
              "    <div class=\"colab-df-container\">\n",
              "      <div>\n",
              "<style scoped>\n",
              "    .dataframe tbody tr th:only-of-type {\n",
              "        vertical-align: middle;\n",
              "    }\n",
              "\n",
              "    .dataframe tbody tr th {\n",
              "        vertical-align: top;\n",
              "    }\n",
              "\n",
              "    .dataframe thead th {\n",
              "        text-align: right;\n",
              "    }\n",
              "</style>\n",
              "<table border=\"1\" class=\"dataframe\">\n",
              "  <thead>\n",
              "    <tr style=\"text-align: right;\">\n",
              "      <th>productId</th>\n",
              "      <th>0972683275</th>\n",
              "      <th>1400501466</th>\n",
              "      <th>1400501520</th>\n",
              "      <th>1400501776</th>\n",
              "      <th>1400532620</th>\n",
              "      <th>1400532655</th>\n",
              "      <th>140053271X</th>\n",
              "      <th>1400532736</th>\n",
              "      <th>1400599997</th>\n",
              "      <th>1400698987</th>\n",
              "      <th>...</th>\n",
              "      <th>B00000JFMK</th>\n",
              "      <th>B00000JHWX</th>\n",
              "      <th>B00000JI4F</th>\n",
              "      <th>B00000JII6</th>\n",
              "      <th>B00000JMUG</th>\n",
              "      <th>B00000JPPI</th>\n",
              "      <th>B00000JSGF</th>\n",
              "      <th>B00000JYLO</th>\n",
              "      <th>B00000JYWQ</th>\n",
              "      <th>B00000K135</th>\n",
              "    </tr>\n",
              "    <tr>\n",
              "      <th>userId</th>\n",
              "      <th></th>\n",
              "      <th></th>\n",
              "      <th></th>\n",
              "      <th></th>\n",
              "      <th></th>\n",
              "      <th></th>\n",
              "      <th></th>\n",
              "      <th></th>\n",
              "      <th></th>\n",
              "      <th></th>\n",
              "      <th></th>\n",
              "      <th></th>\n",
              "      <th></th>\n",
              "      <th></th>\n",
              "      <th></th>\n",
              "      <th></th>\n",
              "      <th></th>\n",
              "      <th></th>\n",
              "      <th></th>\n",
              "      <th></th>\n",
              "      <th></th>\n",
              "    </tr>\n",
              "  </thead>\n",
              "  <tbody>\n",
              "    <tr>\n",
              "      <th>A01852072Z7B68UHLI5UG</th>\n",
              "      <td>0</td>\n",
              "      <td>0</td>\n",
              "      <td>0</td>\n",
              "      <td>0</td>\n",
              "      <td>0</td>\n",
              "      <td>0</td>\n",
              "      <td>0</td>\n",
              "      <td>0</td>\n",
              "      <td>0</td>\n",
              "      <td>0</td>\n",
              "      <td>...</td>\n",
              "      <td>0</td>\n",
              "      <td>0</td>\n",
              "      <td>0</td>\n",
              "      <td>0</td>\n",
              "      <td>0</td>\n",
              "      <td>0</td>\n",
              "      <td>0</td>\n",
              "      <td>0</td>\n",
              "      <td>0</td>\n",
              "      <td>0</td>\n",
              "    </tr>\n",
              "    <tr>\n",
              "      <th>A0266076X6KPZ6CCHGVS</th>\n",
              "      <td>0</td>\n",
              "      <td>0</td>\n",
              "      <td>0</td>\n",
              "      <td>0</td>\n",
              "      <td>0</td>\n",
              "      <td>0</td>\n",
              "      <td>0</td>\n",
              "      <td>0</td>\n",
              "      <td>0</td>\n",
              "      <td>0</td>\n",
              "      <td>...</td>\n",
              "      <td>0</td>\n",
              "      <td>0</td>\n",
              "      <td>0</td>\n",
              "      <td>0</td>\n",
              "      <td>0</td>\n",
              "      <td>0</td>\n",
              "      <td>0</td>\n",
              "      <td>0</td>\n",
              "      <td>0</td>\n",
              "      <td>0</td>\n",
              "    </tr>\n",
              "    <tr>\n",
              "      <th>A0293130VTX2ZXA70JQS</th>\n",
              "      <td>5</td>\n",
              "      <td>0</td>\n",
              "      <td>0</td>\n",
              "      <td>0</td>\n",
              "      <td>0</td>\n",
              "      <td>0</td>\n",
              "      <td>0</td>\n",
              "      <td>0</td>\n",
              "      <td>0</td>\n",
              "      <td>0</td>\n",
              "      <td>...</td>\n",
              "      <td>0</td>\n",
              "      <td>0</td>\n",
              "      <td>0</td>\n",
              "      <td>0</td>\n",
              "      <td>0</td>\n",
              "      <td>0</td>\n",
              "      <td>0</td>\n",
              "      <td>0</td>\n",
              "      <td>0</td>\n",
              "      <td>0</td>\n",
              "    </tr>\n",
              "    <tr>\n",
              "      <th>A030530627MK66BD8V4LN</th>\n",
              "      <td>4</td>\n",
              "      <td>0</td>\n",
              "      <td>0</td>\n",
              "      <td>0</td>\n",
              "      <td>0</td>\n",
              "      <td>0</td>\n",
              "      <td>0</td>\n",
              "      <td>0</td>\n",
              "      <td>0</td>\n",
              "      <td>0</td>\n",
              "      <td>...</td>\n",
              "      <td>0</td>\n",
              "      <td>0</td>\n",
              "      <td>0</td>\n",
              "      <td>0</td>\n",
              "      <td>0</td>\n",
              "      <td>0</td>\n",
              "      <td>0</td>\n",
              "      <td>0</td>\n",
              "      <td>0</td>\n",
              "      <td>0</td>\n",
              "    </tr>\n",
              "    <tr>\n",
              "      <th>A0571176384K8RBNKGF8O</th>\n",
              "      <td>0</td>\n",
              "      <td>0</td>\n",
              "      <td>0</td>\n",
              "      <td>0</td>\n",
              "      <td>0</td>\n",
              "      <td>0</td>\n",
              "      <td>0</td>\n",
              "      <td>0</td>\n",
              "      <td>0</td>\n",
              "      <td>0</td>\n",
              "      <td>...</td>\n",
              "      <td>0</td>\n",
              "      <td>0</td>\n",
              "      <td>0</td>\n",
              "      <td>0</td>\n",
              "      <td>0</td>\n",
              "      <td>0</td>\n",
              "      <td>0</td>\n",
              "      <td>0</td>\n",
              "      <td>0</td>\n",
              "      <td>0</td>\n",
              "    </tr>\n",
              "  </tbody>\n",
              "</table>\n",
              "<p>5 rows × 76 columns</p>\n",
              "</div>\n",
              "      <button class=\"colab-df-convert\" onclick=\"convertToInteractive('df-24ca718e-1eef-4579-92dd-048c49057864')\"\n",
              "              title=\"Convert this dataframe to an interactive table.\"\n",
              "              style=\"display:none;\">\n",
              "        \n",
              "  <svg xmlns=\"http://www.w3.org/2000/svg\" height=\"24px\"viewBox=\"0 0 24 24\"\n",
              "       width=\"24px\">\n",
              "    <path d=\"M0 0h24v24H0V0z\" fill=\"none\"/>\n",
              "    <path d=\"M18.56 5.44l.94 2.06.94-2.06 2.06-.94-2.06-.94-.94-2.06-.94 2.06-2.06.94zm-11 1L8.5 8.5l.94-2.06 2.06-.94-2.06-.94L8.5 2.5l-.94 2.06-2.06.94zm10 10l.94 2.06.94-2.06 2.06-.94-2.06-.94-.94-2.06-.94 2.06-2.06.94z\"/><path d=\"M17.41 7.96l-1.37-1.37c-.4-.4-.92-.59-1.43-.59-.52 0-1.04.2-1.43.59L10.3 9.45l-7.72 7.72c-.78.78-.78 2.05 0 2.83L4 21.41c.39.39.9.59 1.41.59.51 0 1.02-.2 1.41-.59l7.78-7.78 2.81-2.81c.8-.78.8-2.07 0-2.86zM5.41 20L4 18.59l7.72-7.72 1.47 1.35L5.41 20z\"/>\n",
              "  </svg>\n",
              "      </button>\n",
              "      \n",
              "  <style>\n",
              "    .colab-df-container {\n",
              "      display:flex;\n",
              "      flex-wrap:wrap;\n",
              "      gap: 12px;\n",
              "    }\n",
              "\n",
              "    .colab-df-convert {\n",
              "      background-color: #E8F0FE;\n",
              "      border: none;\n",
              "      border-radius: 50%;\n",
              "      cursor: pointer;\n",
              "      display: none;\n",
              "      fill: #1967D2;\n",
              "      height: 32px;\n",
              "      padding: 0 0 0 0;\n",
              "      width: 32px;\n",
              "    }\n",
              "\n",
              "    .colab-df-convert:hover {\n",
              "      background-color: #E2EBFA;\n",
              "      box-shadow: 0px 1px 2px rgba(60, 64, 67, 0.3), 0px 1px 3px 1px rgba(60, 64, 67, 0.15);\n",
              "      fill: #174EA6;\n",
              "    }\n",
              "\n",
              "    [theme=dark] .colab-df-convert {\n",
              "      background-color: #3B4455;\n",
              "      fill: #D2E3FC;\n",
              "    }\n",
              "\n",
              "    [theme=dark] .colab-df-convert:hover {\n",
              "      background-color: #434B5C;\n",
              "      box-shadow: 0px 1px 3px 1px rgba(0, 0, 0, 0.15);\n",
              "      filter: drop-shadow(0px 1px 2px rgba(0, 0, 0, 0.3));\n",
              "      fill: #FFFFFF;\n",
              "    }\n",
              "  </style>\n",
              "\n",
              "      <script>\n",
              "        const buttonEl =\n",
              "          document.querySelector('#df-24ca718e-1eef-4579-92dd-048c49057864 button.colab-df-convert');\n",
              "        buttonEl.style.display =\n",
              "          google.colab.kernel.accessAllowed ? 'block' : 'none';\n",
              "\n",
              "        async function convertToInteractive(key) {\n",
              "          const element = document.querySelector('#df-24ca718e-1eef-4579-92dd-048c49057864');\n",
              "          const dataTable =\n",
              "            await google.colab.kernel.invokeFunction('convertToInteractive',\n",
              "                                                     [key], {});\n",
              "          if (!dataTable) return;\n",
              "\n",
              "          const docLinkHtml = 'Like what you see? Visit the ' +\n",
              "            '<a target=\"_blank\" href=https://colab.research.google.com/notebooks/data_table.ipynb>data table notebook</a>'\n",
              "            + ' to learn more about interactive tables.';\n",
              "          element.innerHTML = '';\n",
              "          dataTable['output_type'] = 'display_data';\n",
              "          await google.colab.output.renderOutput(dataTable, element);\n",
              "          const docLink = document.createElement('div');\n",
              "          docLink.innerHTML = docLinkHtml;\n",
              "          element.appendChild(docLink);\n",
              "        }\n",
              "      </script>\n",
              "    </div>\n",
              "  </div>\n",
              "  "
            ]
          },
          "metadata": {},
          "execution_count": 44
        }
      ]
    },
    {
      "cell_type": "code",
      "source": [
        "ratings_matrix.shape"
      ],
      "metadata": {
        "colab": {
          "base_uri": "https://localhost:8080/"
        },
        "id": "7mB3HLsJq8Jy",
        "outputId": "b02bec16-2ccb-4bb6-e075-84d926cb981b"
      },
      "execution_count": null,
      "outputs": [
        {
          "output_type": "execute_result",
          "data": {
            "text/plain": [
              "(9832, 76)"
            ]
          },
          "metadata": {},
          "execution_count": 45
        }
      ]
    },
    {
      "cell_type": "code",
      "source": [
        "X = ratings_matrix.T\n",
        "X.head()"
      ],
      "metadata": {
        "colab": {
          "base_uri": "https://localhost:8080/",
          "height": 331
        },
        "id": "RzD7zynpq-tq",
        "outputId": "89be4eff-3497-4e1f-db72-542b16374087"
      },
      "execution_count": null,
      "outputs": [
        {
          "output_type": "execute_result",
          "data": {
            "text/plain": [
              "userId      A01852072Z7B68UHLI5UG  A0266076X6KPZ6CCHGVS  A0293130VTX2ZXA70JQS  \\\n",
              "productId                                                                       \n",
              "0972683275                      0                     0                     5   \n",
              "1400501466                      0                     0                     0   \n",
              "1400501520                      0                     0                     0   \n",
              "1400501776                      0                     0                     0   \n",
              "1400532620                      0                     0                     0   \n",
              "\n",
              "userId      A030530627MK66BD8V4LN  A0571176384K8RBNKGF8O  \\\n",
              "productId                                                  \n",
              "0972683275                      4                      0   \n",
              "1400501466                      0                      0   \n",
              "1400501520                      0                      0   \n",
              "1400501776                      0                      0   \n",
              "1400532620                      0                      0   \n",
              "\n",
              "userId      A0590501PZ7HOWJKBGQ4  A0641581307AKT5MAOU0Q  \\\n",
              "productId                                                 \n",
              "0972683275                     0                      0   \n",
              "1400501466                     0                      0   \n",
              "1400501520                     0                      0   \n",
              "1400501776                     0                      0   \n",
              "1400532620                     0                      0   \n",
              "\n",
              "userId      A076219533YHEV2LJO988  A0821988FXKFYX53V4QG  \\\n",
              "productId                                                 \n",
              "0972683275                      0                     0   \n",
              "1400501466                      0                     0   \n",
              "1400501520                      0                     0   \n",
              "1400501776                      0                     0   \n",
              "1400532620                      0                     0   \n",
              "\n",
              "userId      A099626739FNCRNHIKBCG  ...  AZWOPBY75SGAM  AZX0ZDVAFMN78  \\\n",
              "productId                          ...                                 \n",
              "0972683275                      0  ...              0              0   \n",
              "1400501466                      0  ...              0              0   \n",
              "1400501520                      3  ...              0              0   \n",
              "1400501776                      0  ...              0              0   \n",
              "1400532620                      0  ...              0              0   \n",
              "\n",
              "userId      AZX5LAN9JEAFF  AZX7I110AF0W2  AZXKUK895VGSM  AZXP46IB63PU8  \\\n",
              "productId                                                                \n",
              "0972683275              0              0              0              0   \n",
              "1400501466              0              0              0              0   \n",
              "1400501520              0              0              0              0   \n",
              "1400501776              0              0              0              0   \n",
              "1400532620              0              0              0              0   \n",
              "\n",
              "userId      AZYTSU42BZ7TP  AZZGJ2KMWB7R  AZZMV5VT9W7Y8  AZZST8OYL5P4Q  \n",
              "productId                                                              \n",
              "0972683275              0             0              0              0  \n",
              "1400501466              0             0              0              0  \n",
              "1400501520              0             0              0              0  \n",
              "1400501776              0             0              1              0  \n",
              "1400532620              0             0              0              0  \n",
              "\n",
              "[5 rows x 9832 columns]"
            ],
            "text/html": [
              "\n",
              "  <div id=\"df-f3a393dc-afec-4d9e-bb13-ce6b228629ee\">\n",
              "    <div class=\"colab-df-container\">\n",
              "      <div>\n",
              "<style scoped>\n",
              "    .dataframe tbody tr th:only-of-type {\n",
              "        vertical-align: middle;\n",
              "    }\n",
              "\n",
              "    .dataframe tbody tr th {\n",
              "        vertical-align: top;\n",
              "    }\n",
              "\n",
              "    .dataframe thead th {\n",
              "        text-align: right;\n",
              "    }\n",
              "</style>\n",
              "<table border=\"1\" class=\"dataframe\">\n",
              "  <thead>\n",
              "    <tr style=\"text-align: right;\">\n",
              "      <th>userId</th>\n",
              "      <th>A01852072Z7B68UHLI5UG</th>\n",
              "      <th>A0266076X6KPZ6CCHGVS</th>\n",
              "      <th>A0293130VTX2ZXA70JQS</th>\n",
              "      <th>A030530627MK66BD8V4LN</th>\n",
              "      <th>A0571176384K8RBNKGF8O</th>\n",
              "      <th>A0590501PZ7HOWJKBGQ4</th>\n",
              "      <th>A0641581307AKT5MAOU0Q</th>\n",
              "      <th>A076219533YHEV2LJO988</th>\n",
              "      <th>A0821988FXKFYX53V4QG</th>\n",
              "      <th>A099626739FNCRNHIKBCG</th>\n",
              "      <th>...</th>\n",
              "      <th>AZWOPBY75SGAM</th>\n",
              "      <th>AZX0ZDVAFMN78</th>\n",
              "      <th>AZX5LAN9JEAFF</th>\n",
              "      <th>AZX7I110AF0W2</th>\n",
              "      <th>AZXKUK895VGSM</th>\n",
              "      <th>AZXP46IB63PU8</th>\n",
              "      <th>AZYTSU42BZ7TP</th>\n",
              "      <th>AZZGJ2KMWB7R</th>\n",
              "      <th>AZZMV5VT9W7Y8</th>\n",
              "      <th>AZZST8OYL5P4Q</th>\n",
              "    </tr>\n",
              "    <tr>\n",
              "      <th>productId</th>\n",
              "      <th></th>\n",
              "      <th></th>\n",
              "      <th></th>\n",
              "      <th></th>\n",
              "      <th></th>\n",
              "      <th></th>\n",
              "      <th></th>\n",
              "      <th></th>\n",
              "      <th></th>\n",
              "      <th></th>\n",
              "      <th></th>\n",
              "      <th></th>\n",
              "      <th></th>\n",
              "      <th></th>\n",
              "      <th></th>\n",
              "      <th></th>\n",
              "      <th></th>\n",
              "      <th></th>\n",
              "      <th></th>\n",
              "      <th></th>\n",
              "      <th></th>\n",
              "    </tr>\n",
              "  </thead>\n",
              "  <tbody>\n",
              "    <tr>\n",
              "      <th>0972683275</th>\n",
              "      <td>0</td>\n",
              "      <td>0</td>\n",
              "      <td>5</td>\n",
              "      <td>4</td>\n",
              "      <td>0</td>\n",
              "      <td>0</td>\n",
              "      <td>0</td>\n",
              "      <td>0</td>\n",
              "      <td>0</td>\n",
              "      <td>0</td>\n",
              "      <td>...</td>\n",
              "      <td>0</td>\n",
              "      <td>0</td>\n",
              "      <td>0</td>\n",
              "      <td>0</td>\n",
              "      <td>0</td>\n",
              "      <td>0</td>\n",
              "      <td>0</td>\n",
              "      <td>0</td>\n",
              "      <td>0</td>\n",
              "      <td>0</td>\n",
              "    </tr>\n",
              "    <tr>\n",
              "      <th>1400501466</th>\n",
              "      <td>0</td>\n",
              "      <td>0</td>\n",
              "      <td>0</td>\n",
              "      <td>0</td>\n",
              "      <td>0</td>\n",
              "      <td>0</td>\n",
              "      <td>0</td>\n",
              "      <td>0</td>\n",
              "      <td>0</td>\n",
              "      <td>0</td>\n",
              "      <td>...</td>\n",
              "      <td>0</td>\n",
              "      <td>0</td>\n",
              "      <td>0</td>\n",
              "      <td>0</td>\n",
              "      <td>0</td>\n",
              "      <td>0</td>\n",
              "      <td>0</td>\n",
              "      <td>0</td>\n",
              "      <td>0</td>\n",
              "      <td>0</td>\n",
              "    </tr>\n",
              "    <tr>\n",
              "      <th>1400501520</th>\n",
              "      <td>0</td>\n",
              "      <td>0</td>\n",
              "      <td>0</td>\n",
              "      <td>0</td>\n",
              "      <td>0</td>\n",
              "      <td>0</td>\n",
              "      <td>0</td>\n",
              "      <td>0</td>\n",
              "      <td>0</td>\n",
              "      <td>3</td>\n",
              "      <td>...</td>\n",
              "      <td>0</td>\n",
              "      <td>0</td>\n",
              "      <td>0</td>\n",
              "      <td>0</td>\n",
              "      <td>0</td>\n",
              "      <td>0</td>\n",
              "      <td>0</td>\n",
              "      <td>0</td>\n",
              "      <td>0</td>\n",
              "      <td>0</td>\n",
              "    </tr>\n",
              "    <tr>\n",
              "      <th>1400501776</th>\n",
              "      <td>0</td>\n",
              "      <td>0</td>\n",
              "      <td>0</td>\n",
              "      <td>0</td>\n",
              "      <td>0</td>\n",
              "      <td>0</td>\n",
              "      <td>0</td>\n",
              "      <td>0</td>\n",
              "      <td>0</td>\n",
              "      <td>0</td>\n",
              "      <td>...</td>\n",
              "      <td>0</td>\n",
              "      <td>0</td>\n",
              "      <td>0</td>\n",
              "      <td>0</td>\n",
              "      <td>0</td>\n",
              "      <td>0</td>\n",
              "      <td>0</td>\n",
              "      <td>0</td>\n",
              "      <td>1</td>\n",
              "      <td>0</td>\n",
              "    </tr>\n",
              "    <tr>\n",
              "      <th>1400532620</th>\n",
              "      <td>0</td>\n",
              "      <td>0</td>\n",
              "      <td>0</td>\n",
              "      <td>0</td>\n",
              "      <td>0</td>\n",
              "      <td>0</td>\n",
              "      <td>0</td>\n",
              "      <td>0</td>\n",
              "      <td>0</td>\n",
              "      <td>0</td>\n",
              "      <td>...</td>\n",
              "      <td>0</td>\n",
              "      <td>0</td>\n",
              "      <td>0</td>\n",
              "      <td>0</td>\n",
              "      <td>0</td>\n",
              "      <td>0</td>\n",
              "      <td>0</td>\n",
              "      <td>0</td>\n",
              "      <td>0</td>\n",
              "      <td>0</td>\n",
              "    </tr>\n",
              "  </tbody>\n",
              "</table>\n",
              "<p>5 rows × 9832 columns</p>\n",
              "</div>\n",
              "      <button class=\"colab-df-convert\" onclick=\"convertToInteractive('df-f3a393dc-afec-4d9e-bb13-ce6b228629ee')\"\n",
              "              title=\"Convert this dataframe to an interactive table.\"\n",
              "              style=\"display:none;\">\n",
              "        \n",
              "  <svg xmlns=\"http://www.w3.org/2000/svg\" height=\"24px\"viewBox=\"0 0 24 24\"\n",
              "       width=\"24px\">\n",
              "    <path d=\"M0 0h24v24H0V0z\" fill=\"none\"/>\n",
              "    <path d=\"M18.56 5.44l.94 2.06.94-2.06 2.06-.94-2.06-.94-.94-2.06-.94 2.06-2.06.94zm-11 1L8.5 8.5l.94-2.06 2.06-.94-2.06-.94L8.5 2.5l-.94 2.06-2.06.94zm10 10l.94 2.06.94-2.06 2.06-.94-2.06-.94-.94-2.06-.94 2.06-2.06.94z\"/><path d=\"M17.41 7.96l-1.37-1.37c-.4-.4-.92-.59-1.43-.59-.52 0-1.04.2-1.43.59L10.3 9.45l-7.72 7.72c-.78.78-.78 2.05 0 2.83L4 21.41c.39.39.9.59 1.41.59.51 0 1.02-.2 1.41-.59l7.78-7.78 2.81-2.81c.8-.78.8-2.07 0-2.86zM5.41 20L4 18.59l7.72-7.72 1.47 1.35L5.41 20z\"/>\n",
              "  </svg>\n",
              "      </button>\n",
              "      \n",
              "  <style>\n",
              "    .colab-df-container {\n",
              "      display:flex;\n",
              "      flex-wrap:wrap;\n",
              "      gap: 12px;\n",
              "    }\n",
              "\n",
              "    .colab-df-convert {\n",
              "      background-color: #E8F0FE;\n",
              "      border: none;\n",
              "      border-radius: 50%;\n",
              "      cursor: pointer;\n",
              "      display: none;\n",
              "      fill: #1967D2;\n",
              "      height: 32px;\n",
              "      padding: 0 0 0 0;\n",
              "      width: 32px;\n",
              "    }\n",
              "\n",
              "    .colab-df-convert:hover {\n",
              "      background-color: #E2EBFA;\n",
              "      box-shadow: 0px 1px 2px rgba(60, 64, 67, 0.3), 0px 1px 3px 1px rgba(60, 64, 67, 0.15);\n",
              "      fill: #174EA6;\n",
              "    }\n",
              "\n",
              "    [theme=dark] .colab-df-convert {\n",
              "      background-color: #3B4455;\n",
              "      fill: #D2E3FC;\n",
              "    }\n",
              "\n",
              "    [theme=dark] .colab-df-convert:hover {\n",
              "      background-color: #434B5C;\n",
              "      box-shadow: 0px 1px 3px 1px rgba(0, 0, 0, 0.15);\n",
              "      filter: drop-shadow(0px 1px 2px rgba(0, 0, 0, 0.3));\n",
              "      fill: #FFFFFF;\n",
              "    }\n",
              "  </style>\n",
              "\n",
              "      <script>\n",
              "        const buttonEl =\n",
              "          document.querySelector('#df-f3a393dc-afec-4d9e-bb13-ce6b228629ee button.colab-df-convert');\n",
              "        buttonEl.style.display =\n",
              "          google.colab.kernel.accessAllowed ? 'block' : 'none';\n",
              "\n",
              "        async function convertToInteractive(key) {\n",
              "          const element = document.querySelector('#df-f3a393dc-afec-4d9e-bb13-ce6b228629ee');\n",
              "          const dataTable =\n",
              "            await google.colab.kernel.invokeFunction('convertToInteractive',\n",
              "                                                     [key], {});\n",
              "          if (!dataTable) return;\n",
              "\n",
              "          const docLinkHtml = 'Like what you see? Visit the ' +\n",
              "            '<a target=\"_blank\" href=https://colab.research.google.com/notebooks/data_table.ipynb>data table notebook</a>'\n",
              "            + ' to learn more about interactive tables.';\n",
              "          element.innerHTML = '';\n",
              "          dataTable['output_type'] = 'display_data';\n",
              "          await google.colab.output.renderOutput(dataTable, element);\n",
              "          const docLink = document.createElement('div');\n",
              "          docLink.innerHTML = docLinkHtml;\n",
              "          element.appendChild(docLink);\n",
              "        }\n",
              "      </script>\n",
              "    </div>\n",
              "  </div>\n",
              "  "
            ]
          },
          "metadata": {},
          "execution_count": 46
        }
      ]
    },
    {
      "cell_type": "markdown",
      "source": [
        "Apply PCA function to reduce the dimensionality of the matrix and extract the underlying latent factors that contribute to the user-item interactions."
      ],
      "metadata": {
        "id": "rrsKGtKTFRz_"
      }
    },
    {
      "cell_type": "code",
      "source": [
        "#Decomposing the Matrix\n",
        "from sklearn.decomposition import PCA\n",
        "\n",
        "X = ratings_matrix.T\n",
        "pca = PCA(n_components=25)\n",
        "decomposed_matrix = pca.fit_transform(ratings_matrix.T)"
      ],
      "metadata": {
        "id": "H8afRP8BrIcq"
      },
      "execution_count": null,
      "outputs": []
    },
    {
      "cell_type": "markdown",
      "source": [
        "- np.corrcoef() function is used to compute the correlation coefficient matrix between the rows of the decomposed matrix. The resulting correlation_matrix is a square matrix of size n x n, where n is the number of items (i.e., columns) in the ratings matrix.\n",
        "\n",
        "- Each element of the correlation_matrix represents the correlation between the rows (i.e., the items) of the decomposed matrix.\n",
        "\n",
        "- Could also use a different correlation matrix functions (Cosine Similiarity, Pearson Correlation, Euclidean Distance)\n"
      ],
      "metadata": {
        "id": "SunO3jd4FNCX"
      }
    },
    {
      "cell_type": "code",
      "source": [
        "correlation_matrix = np.corrcoef(decomposed_matrix)\n",
        "print(correlation_matrix)\n",
        "\n",
        "print('\\n Shape:')\n",
        "print(correlation_matrix.shape)"
      ],
      "metadata": {
        "colab": {
          "base_uri": "https://localhost:8080/"
        },
        "id": "JAuPY883rMVt",
        "outputId": "a7c4086c-c7d1-4f9f-a5e5-53024dc85e9d"
      },
      "execution_count": null,
      "outputs": [
        {
          "output_type": "stream",
          "name": "stdout",
          "text": [
            "[[ 1.         -0.08272213 -0.19725354 ... -0.36776037 -0.25706823\n",
            "  -0.32471807]\n",
            " [-0.08272213  1.          0.13998651 ...  0.00849005  0.04633659\n",
            "   0.07674595]\n",
            " [-0.19725354  0.13998651  1.         ...  0.28449287  0.27104057\n",
            "   0.53460356]\n",
            " ...\n",
            " [-0.36776037  0.00849005  0.28449287 ...  1.          0.04444231\n",
            "   0.67859708]\n",
            " [-0.25706823  0.04633659  0.27104057 ...  0.04444231  1.\n",
            "   0.32431638]\n",
            " [-0.32471807  0.07674595  0.53460356 ...  0.67859708  0.32431638\n",
            "   1.        ]]\n",
            "\n",
            " Shape:\n",
            "(76, 76)\n"
          ]
        }
      ]
    },
    {
      "cell_type": "code",
      "source": [
        "X.index[10]"
      ],
      "metadata": {
        "colab": {
          "base_uri": "https://localhost:8080/",
          "height": 36
        },
        "id": "jLbQC3-ErO0d",
        "outputId": "5c9432b6-b0b6-4f99-c5fb-6ecef861d78f"
      },
      "execution_count": null,
      "outputs": [
        {
          "output_type": "execute_result",
          "data": {
            "text/plain": [
              "'3744295508'"
            ],
            "application/vnd.google.colaboratory.intrinsic+json": {
              "type": "string"
            }
          },
          "metadata": {},
          "execution_count": 49
        }
      ]
    },
    {
      "cell_type": "code",
      "source": [
        "#i = \"B00000K135\"\n",
        "#i = '0972683275'\n",
        "i = '3744295508'\n",
        "#i = 'B00000JMUG'\n",
        "\n",
        "product_names = list(X.index)\n",
        "print(product_names)\n",
        "product_ID = product_names.index(i)\n",
        "\n",
        "product_ID"
      ],
      "metadata": {
        "colab": {
          "base_uri": "https://localhost:8080/"
        },
        "id": "BcgNohvorRGK",
        "outputId": "fe259dab-4651-47e1-8a04-d516836cf197"
      },
      "execution_count": null,
      "outputs": [
        {
          "output_type": "stream",
          "name": "stdout",
          "text": [
            "['0972683275', '1400501466', '1400501520', '1400501776', '1400532620', '1400532655', '140053271X', '1400532736', '1400599997', '1400698987', '3744295508', '6301977173', '7214047977', '8862935293', '9573212919', '9575871979', '9625993428', '9888002198', '9966694544', '9983891212', '9984984354', '9985511476', 'B000001OM4', 'B000001OM5', 'B000001OMI', 'B000001ON6', 'B00000DM9W', 'B00000IGBF', 'B00000J05A', 'B00000J061', 'B00000J08Q', 'B00000J0D2', 'B00000J0D5', 'B00000J0D8', 'B00000J1EJ', 'B00000J1EP', 'B00000J1EQ', 'B00000J1F3', 'B00000J1GA', 'B00000J1QK', 'B00000J1QR', 'B00000J1SC', 'B00000J1TX', 'B00000J1U8', 'B00000J1UQ', 'B00000J1V3', 'B00000J1V5', 'B00000J3NF', 'B00000J3Q7', 'B00000J3UJ', 'B00000J434', 'B00000J4EY', 'B00000J4FS', 'B00000J4GE', 'B00000J6WY', 'B00000JBAT', 'B00000JBHP', 'B00000JBPB', 'B00000JCT8', 'B00000JCTO', 'B00000JD34', 'B00000JDF5', 'B00000JDF6', 'B00000JDHV', 'B00000JFE3', 'B00000JFIF', 'B00000JFMK', 'B00000JHWX', 'B00000JI4F', 'B00000JII6', 'B00000JMUG', 'B00000JPPI', 'B00000JSGF', 'B00000JYLO', 'B00000JYWQ', 'B00000K135']\n"
          ]
        },
        {
          "output_type": "execute_result",
          "data": {
            "text/plain": [
              "10"
            ]
          },
          "metadata": {},
          "execution_count": 50
        }
      ]
    },
    {
      "cell_type": "markdown",
      "source": [
        " **Show the correlation between one given product and the rest of the items**"
      ],
      "metadata": {
        "id": "GbnW1XE2dvLl"
      }
    },
    {
      "cell_type": "code",
      "source": [
        "correlation_product_ID = correlation_matrix[product_ID]\n",
        "correlation_product_ID\n",
        "\n"
      ],
      "metadata": {
        "colab": {
          "base_uri": "https://localhost:8080/"
        },
        "id": "K-V1JP98rTsp",
        "outputId": "07bf8353-417f-429f-cdf1-9805881d5a79"
      },
      "execution_count": null,
      "outputs": [
        {
          "output_type": "execute_result",
          "data": {
            "text/plain": [
              "array([-0.38840813,  0.03545444,  0.55728913,  0.06046024,  0.03151725,\n",
              "       -0.06461216, -0.01659196,  0.0780779 ,  0.01352903,  0.1313327 ,\n",
              "        1.        ,  0.32072557, -0.06562477, -0.07207921,  0.00585694,\n",
              "        0.27797085,  0.51584978,  0.84885961,  0.63810066, -0.06836833,\n",
              "        0.87299672,  0.69573807,  0.77648415,  0.41101258,  0.87467163,\n",
              "       -0.31615875, -0.02674003,  0.70611921,  0.84750206, -0.02248069,\n",
              "        0.88686948,  0.86133263,  0.89143571,  0.83511176,  0.77529692,\n",
              "        0.20938944,  0.19261413,  0.55758493,  0.7994983 ,  0.55381029,\n",
              "        0.47195481, -0.13869667, -0.20490828,  0.70865698,  0.31342308,\n",
              "       -0.05797991, -0.42992231,  0.36327339,  0.46759201,  0.86129017,\n",
              "       -0.13306148,  0.38313529, -0.30453957,  0.61807809,  0.48396871,\n",
              "        0.68351476,  0.86309645,  0.82520732,  0.87717232,  0.59243723,\n",
              "        0.79747941, -0.13261552,  0.17939185,  0.65399657,  0.78419116,\n",
              "        0.49993797,  0.5079447 ,  0.56796326, -0.11332593,  0.88078091,\n",
              "        0.83920156,  0.84472539,  0.03543663,  0.47003345,  0.33604315,\n",
              "        0.57347036])"
            ]
          },
          "metadata": {},
          "execution_count": 51
        }
      ]
    },
    {
      "cell_type": "markdown",
      "source": [
        "# **Show top 5 recommendations**"
      ],
      "metadata": {
        "id": "Lhfq-gsfd8Eo"
      }
    },
    {
      "cell_type": "code",
      "source": [
        "Recommend = list(X.index[correlation_product_ID > 0.800])\n",
        "\n",
        "# Removes the item already bought by the customer\n",
        "Recommend.remove(i) \n",
        "\n",
        "Recommend[:5]"
      ],
      "metadata": {
        "colab": {
          "base_uri": "https://localhost:8080/"
        },
        "id": "N8h42ZptrV6A",
        "outputId": "81a07438-014f-4f6e-eccc-c72946c22789"
      },
      "execution_count": null,
      "outputs": [
        {
          "output_type": "execute_result",
          "data": {
            "text/plain": [
              "['9888002198', '9984984354', 'B000001OMI', 'B00000J05A', 'B00000J08Q']"
            ]
          },
          "metadata": {},
          "execution_count": 52
        }
      ]
    },
    {
      "cell_type": "markdown",
      "source": [
        "# **Potential for improvement:**\n",
        "\n",
        "- Find data with more attributes about each product or user\n",
        "- Use different similarity measures\n",
        "- Try deep learning or different recommendation system\n",
        "- Incorporate user feedback to refine recommendations\n",
        "- Tune hyperparameters such as PCA components"
      ],
      "metadata": {
        "id": "0W82y57IED-V"
      }
    },
    {
      "cell_type": "markdown",
      "source": [],
      "metadata": {
        "id": "29b7kDXwklon"
      }
    }
  ]
}